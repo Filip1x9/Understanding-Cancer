{
 "cells": [
  {
   "cell_type": "code",
   "execution_count": 14,
   "metadata": {},
   "outputs": [],
   "source": [
    "import pandas as pd\n",
    "import numpy as np\n",
    "from sklearn.model_selection import train_test_split\n",
    "from sklearn.metrics import accuracy_score\n",
    "from sklearn.tree import DecisionTreeClassifier\n",
    "from sklearn.tree import export_graphviz\n",
    "import pydot"
   ]
  },
  {
   "cell_type": "code",
   "execution_count": 22,
   "metadata": {},
   "outputs": [],
   "source": [
    "prostate = pd.read_csv(\"miRNA_HiSeq_gene_PROSTATE\", sep=\"\\t\", header=0, index_col=0)\n",
    "stomach = pd.read_csv(\"miRNA_HiSeq_gene_STOMACH\", sep=\"\\t\", header=0, index_col=0)\n",
    "testicular = pd.read_csv(\"miRNA_HiSeq_gene_TESTICULAR\", sep=\"\\t\", header=0, index_col=0)\n",
    "esophageal = pd.read_csv(\"miRNA_HiSeq_gene_ESOPHAGEAL\", sep=\"\\t\", header=0, index_col=0)"
   ]
  },
  {
   "cell_type": "code",
   "execution_count": 23,
   "metadata": {},
   "outputs": [],
   "source": [
    "prostate = prostate.transpose()\n",
    "prostate['type'] = 'prostate'\n",
    "\n",
    "stomach = stomach.transpose()\n",
    "stomach['type'] = 'stomach'\n",
    "\n",
    "testicular = testicular.transpose()\n",
    "testicular['type'] = 'testicular'\n",
    "\n",
    "esophageal = esophageal.transpose()\n",
    "esophageal['type'] = 'esophageal'"
   ]
  },
  {
   "cell_type": "code",
   "execution_count": 24,
   "metadata": {},
   "outputs": [
    {
     "name": "stderr",
     "output_type": "stream",
     "text": [
      "/usr/local/lib/python3.7/site-packages/pandas/core/frame.py:7138: FutureWarning: Sorting because non-concatenation axis is not aligned. A future version\n",
      "of pandas will change to not sort by default.\n",
      "\n",
      "To accept the future behavior, pass 'sort=False'.\n",
      "\n",
      "To retain the current behavior and silence the warning, pass 'sort=True'.\n",
      "\n",
      "  sort=sort,\n"
     ]
    }
   ],
   "source": [
    "dataset = prostate.append(stomach)\n",
    "dataset = dataset.append(testicular)\n",
    "dataset = dataset.append(esophageal)\n",
    "\n",
    "dataset = dataset.fillna(0)"
   ]
  },
  {
   "cell_type": "code",
   "execution_count": 25,
   "metadata": {},
   "outputs": [],
   "source": [
    "y = dataset['type']\n",
    "x = dataset.drop('type', axis = 1)"
   ]
  },
  {
   "cell_type": "code",
   "execution_count": 26,
   "metadata": {},
   "outputs": [
    {
     "name": "stdout",
     "output_type": "stream",
     "text": [
      "0.8905660377358491\n"
     ]
    }
   ],
   "source": [
    "X_train, X_test, Y_train, Y_test = train_test_split(x, y, train_size=0.8, test_size=0.2, random_state=101)\n",
    "\n",
    "decision_tree = DecisionTreeClassifier(max_depth=5)\n",
    "decision_tree.fit(X_train, Y_train)\n",
    "prediction = decision_tree.predict(X_test)\n",
    "\n",
    "print(accuracy_score(Y_test, prediction))"
   ]
  },
  {
   "cell_type": "code",
   "execution_count": 27,
   "metadata": {},
   "outputs": [],
   "source": [
    "export_graphviz(decision_tree, out_file=\"treeforest.dot\", feature_names=x.columns.values, class_names=decision_tree.classes_, \n",
    "                rounded=True, filled=True)\n",
    "(graph,) = pydot.graph_from_dot_file('treeforest.dot')\n",
    "graph.write_png('treeForest.png')"
   ]
  },
  {
   "cell_type": "code",
   "execution_count": null,
   "metadata": {},
   "outputs": [],
   "source": []
  }
 ],
 "metadata": {
  "kernelspec": {
   "display_name": "Python 3",
   "language": "python",
   "name": "python3"
  },
  "language_info": {
   "codemirror_mode": {
    "name": "ipython",
    "version": 3
   },
   "file_extension": ".py",
   "mimetype": "text/x-python",
   "name": "python",
   "nbconvert_exporter": "python",
   "pygments_lexer": "ipython3",
   "version": "3.7.6"
  }
 },
 "nbformat": 4,
 "nbformat_minor": 4
}
